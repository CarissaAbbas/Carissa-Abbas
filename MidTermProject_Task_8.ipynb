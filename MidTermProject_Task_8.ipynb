{
  "nbformat": 4,
  "nbformat_minor": 0,
  "metadata": {
    "colab": {
      "provenance": [],
      "authorship_tag": "ABX9TyP0etqjr/wmdT8delL1WdpG",
      "include_colab_link": true
    },
    "kernelspec": {
      "name": "python3",
      "display_name": "Python 3"
    },
    "language_info": {
      "name": "python"
    }
  },
  "cells": [
    {
      "cell_type": "markdown",
      "metadata": {
        "id": "view-in-github",
        "colab_type": "text"
      },
      "source": [
        "<a href=\"https://colab.research.google.com/github/CarissaAbbas/Data-Science-Fundamentals/blob/main/MidTermProject_Task_8.ipynb\" target=\"_parent\"><img src=\"https://colab.research.google.com/assets/colab-badge.svg\" alt=\"Open In Colab\"/></a>"
      ]
    },
    {
      "cell_type": "markdown",
      "source": [
        "Login to Ubelix using Windows Powershell with your activated Campus account"
      ],
      "metadata": {
        "id": "Nu7B1z8vfX6V"
      }
    },
    {
      "cell_type": "code",
      "source": [
        "ssh ca17y083@submit03.unibe.ch"
      ],
      "metadata": {
        "id": "-50R5QCNfhjO"
      },
      "execution_count": null,
      "outputs": []
    },
    {
      "cell_type": "markdown",
      "source": [
        "Activate the Anaconda environment"
      ],
      "metadata": {
        "id": "xKLuqIlJfvX6"
      }
    },
    {
      "cell_type": "code",
      "source": [
        "module load Anaconda3"
      ],
      "metadata": {
        "id": "BK0Z2cNKfuEi"
      },
      "execution_count": null,
      "outputs": []
    },
    {
      "cell_type": "markdown",
      "source": [
        "Create virtual environment"
      ],
      "metadata": {
        "id": "f7G6p1nCfts4"
      }
    },
    {
      "cell_type": "code",
      "source": [
        "python -m venv myenv"
      ],
      "metadata": {
        "id": "dukBT8hXf83b"
      },
      "execution_count": null,
      "outputs": []
    },
    {
      "cell_type": "markdown",
      "source": [
        "Access virtual environment"
      ],
      "metadata": {
        "id": "sh9Tz0l-gjZF"
      }
    },
    {
      "cell_type": "code",
      "source": [
        "source myenv/bin/activate"
      ],
      "metadata": {
        "id": "Dl2q8ERmgYFl"
      },
      "execution_count": null,
      "outputs": []
    },
    {
      "cell_type": "markdown",
      "source": [
        "Install packages required for running the code"
      ],
      "metadata": {
        "id": "eKZ8W2fdgj2o"
      }
    },
    {
      "cell_type": "code",
      "source": [
        "pip install pandas numpy rdkit scikit-learn matplotlib seaborn tensorflow"
      ],
      "metadata": {
        "id": "s0uYyLyMgP_j"
      },
      "execution_count": null,
      "outputs": []
    },
    {
      "cell_type": "markdown",
      "source": [
        "Copy folder containing Python file on GitHub"
      ],
      "metadata": {
        "id": "VwieGYC-gkcJ"
      }
    },
    {
      "cell_type": "code",
      "source": [
        "git clone https://github.com/CarissaAbbas/Data-Science-Fundamentals.git"
      ],
      "metadata": {
        "id": "vQAV6ZrHgMwJ"
      },
      "execution_count": null,
      "outputs": []
    },
    {
      "cell_type": "markdown",
      "source": [
        "Navigate to folder"
      ],
      "metadata": {
        "id": "W-VQy-Uxgk4x"
      }
    },
    {
      "cell_type": "code",
      "source": [
        "cd Data-Science-Fundamentals"
      ],
      "metadata": {
        "id": "EK28GeylgKr0"
      },
      "execution_count": null,
      "outputs": []
    },
    {
      "cell_type": "markdown",
      "source": [
        "Run file"
      ],
      "metadata": {
        "id": "AwueV61lglew"
      }
    },
    {
      "cell_type": "code",
      "source": [
        "python MidTermProject_Task_6.py\n"
      ],
      "metadata": {
        "id": "Fd7FK8cDgB91"
      },
      "execution_count": null,
      "outputs": []
    }
  ]
}
